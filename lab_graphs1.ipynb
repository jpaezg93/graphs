{
 "cells": [
  {
   "cell_type": "markdown",
   "metadata": {},
   "source": [
    "Supongamos que estás realizando un estudio sobre el rendimiento académico de los estudiantes en tres materias: Matemáticas, Ciencias y Literatura. Tienes los datos de las calificaciones de una muestra de estudiantes y deseas realizar un análisis visual de los resultados."
   ]
  },
  {
   "cell_type": "code",
   "execution_count": null,
   "metadata": {},
   "outputs": [],
   "source": [
    "import numpy as np\n",
    "\n",
    "rng = np.random.default_rng(42)\n",
    "\n",
    "# Datos de calificaciones de los estudiantes\n",
    "matematicas = rng.integers(50, 100, 20)\n",
    "ciencias = rng.integers(40, 95, 20)\n",
    "literatura = rng.integers(60, 100, 20)\n",
    "\n",
    "# Datos de errores para el gráfico de barras de error\n",
    "errores_matematicas = rng.uniform(2, 5, 2)\n",
    "errores_matematicas = [min(errores_matematicas), max(errores_matematicas)]\n",
    "\n",
    "errores_ciencias = rng.uniform(1, 4, 2)\n",
    "errores_ciencias = [min(errores_ciencias), max(errores_ciencias)]\n",
    "\n",
    "errores_literatura = rng.uniform(3, 6, 2)\n",
    "errores_literatura = [min(errores_literatura), max(errores_literatura)]\n"
   ]
  }
 ],
 "metadata": {
  "language_info": {
   "name": "python"
  }
 },
 "nbformat": 4,
 "nbformat_minor": 2
}
